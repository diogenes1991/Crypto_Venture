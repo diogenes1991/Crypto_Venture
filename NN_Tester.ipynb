{
 "cells": [
  {
   "cell_type": "code",
   "execution_count": 1,
   "id": "1a8cf71a",
   "metadata": {},
   "outputs": [],
   "source": [
    "import json\n",
    "import numpy as np\n",
    "import matplotlib.pyplot as plt\n",
    "import random"
   ]
  },
  {
   "cell_type": "code",
   "execution_count": 2,
   "id": "3b454f06",
   "metadata": {},
   "outputs": [],
   "source": [
    "file = open('Processed_Non_Scammer_Database_2/database','r')\n",
    "nsdb = json.load(file)\n",
    "file.close()"
   ]
  },
  {
   "cell_type": "code",
   "execution_count": 3,
   "id": "455ac6a7",
   "metadata": {},
   "outputs": [],
   "source": [
    "file = open('Processed_Scammer_Database_2/database','r')\n",
    "sdb = json.load(file)\n",
    "file.close()"
   ]
  },
  {
   "cell_type": "code",
   "execution_count": 4,
   "id": "b0809781",
   "metadata": {},
   "outputs": [],
   "source": [
    "def prepare_data(database,identifier):\n",
    "    ''' We will prepare the 11-dimensional dataset, 10 of which are direct the 11th is the id'''\n",
    "    def convert_to_array(entry):\n",
    "        rval = []\n",
    "        \n",
    "        rval.append(entry['spreads']['Incoming']['Total']) # Number of Addresses that send ETH to this address\n",
    "        rval.append(entry['spreads']['Incoming']['Max'])   # The number of transactions with the address that made the most\n",
    "        \n",
    "        rval.append(entry['spreads']['Outgoing']['Total']) \n",
    "        rval.append(entry['spreads']['Outgoing']['Max'])\n",
    "        \n",
    "        rval.append(entry['means']['balances']['avg']) # Block weigthed -> (100*1ETH + 2ETH*200)/300\n",
    "        rval.append(entry['means']['balances']['std']) \n",
    "        \n",
    "        rval.append(entry['means']['transactions']['avg']) \n",
    "        rval.append(entry['means']['transactions']['std'])\n",
    "        \n",
    "        rval.append(entry['means']['time_between_transactions']['avg']) # Scammers tended to have auto withdrawals after a depo\n",
    "        rval.append(entry['means']['time_between_transactions']['std']) # Standard deviation of itself \n",
    "        \n",
    "        ''' Scenario \n",
    "            \n",
    "            Time between trans:\n",
    "            \n",
    "                [ 1, 200, 1, 3829, 1, 438, 1, ... ] -\n",
    "        \n",
    "        '''\n",
    "        \n",
    "        rval.append(identifier)\n",
    "        \n",
    "        return rval\n",
    "    \n",
    "    uniques = {}\n",
    "    data = []\n",
    "    for entity in database:\n",
    "        addresses = database[entity]\n",
    "        for address in addresses:\n",
    "            ''' Skip repeated '''\n",
    "            if address['address'] in uniques.keys():\n",
    "                continue   \n",
    "            uniques[address['address']] = 1\n",
    "            data.append(convert_to_array(address))\n",
    "    return data"
   ]
  },
  {
   "cell_type": "code",
   "execution_count": 5,
   "id": "5551268c",
   "metadata": {},
   "outputs": [],
   "source": [
    "psdb = prepare_data(sdb,1)\n",
    "pnsdb = prepare_data(nsdb,0)\n",
    "full_database = psdb + pnsdb\n",
    "random.shuffle(full_database)\n",
    "full_database = np.asarray(full_database)\n",
    "\n",
    "def renormalize(data):\n",
    "    def compute_moments(index):\n",
    "        local  = data[:,index]\n",
    "        local2 = np.array([ d*d for d in local ])\n",
    "        avg1  = local.sum()/len(data)\n",
    "        avg2  = local2.sum()/len(data)\n",
    "        return [avg1,np.sqrt(avg2-avg1*avg1)]\n",
    "    \n",
    "    moments     = [ compute_moments(i) for i in range(len(data[0])-1) ]\n",
    "    moments.append([0,1])\n",
    "    renorm_data = [ [ (data[i][j] - moments[j][0])/moments[j][1] for j in range(len(data[i])) ] for i in  range(len(data)) ]\n",
    "    renorm_data = np.asarray(renorm_data)\n",
    "    return renorm_data\n",
    "\n",
    "renorm_full_data = renormalize(full_database)"
   ]
  },
  {
   "cell_type": "code",
   "execution_count": 6,
   "id": "a37ed218",
   "metadata": {},
   "outputs": [
    {
     "name": "stdout",
     "output_type": "stream",
     "text": [
      "Model: \"sequential\"\n",
      "_________________________________________________________________\n",
      " Layer (type)                Output Shape              Param #   \n",
      "=================================================================\n",
      " dense (Dense)               (None, 29)                319       \n",
      "                                                                 \n",
      " dense_1 (Dense)             (None, 23)                690       \n",
      "                                                                 \n",
      " dense_2 (Dense)             (None, 19)                456       \n",
      "                                                                 \n",
      " dense_3 (Dense)             (None, 17)                340       \n",
      "                                                                 \n",
      " dense_4 (Dense)             (None, 13)                234       \n",
      "                                                                 \n",
      " dense_5 (Dense)             (None, 11)                154       \n",
      "                                                                 \n",
      " dense_6 (Dense)             (None, 29)                348       \n",
      "                                                                 \n",
      " dense_7 (Dense)             (None, 31)                930       \n",
      "                                                                 \n",
      " dense_8 (Dense)             (None, 11)                352       \n",
      "                                                                 \n",
      " dense_9 (Dense)             (None, 1)                 12        \n",
      "                                                                 \n",
      "=================================================================\n",
      "Total params: 3,835\n",
      "Trainable params: 3,835\n",
      "Non-trainable params: 0\n",
      "_________________________________________________________________\n"
     ]
    }
   ],
   "source": [
    "from Model import Model\n",
    "MyModel = Model(\"PreTrained_Model\",\"PreTrainedModel\",renorm_full_data)\n",
    "MyModel.loadFromPath(\"Model_5\")\n",
    "MyModel.model.summary()"
   ]
  },
  {
   "cell_type": "code",
   "execution_count": 9,
   "id": "b55ca34f",
   "metadata": {},
   "outputs": [
    {
     "name": "stdout",
     "output_type": "stream",
     "text": [
      "19/19 [==============================] - 0s 2ms/step\n",
      "33/33 [==============================] - 0s 971us/step\n"
     ]
    },
    {
     "data": {
      "image/png": "[encoded data removed]",
      "text/plain": [
       "<Figure size 432x288 with 1 Axes>"
      ]
     },
     "metadata": {
      "needs_background": "light"
     },
     "output_type": "display_data"
    },
    {
     "data": {
      "image/png": "[encoded data removed]",
      "text/plain": [
       "<Figure size 432x288 with 1 Axes>"
      ]
     },
     "metadata": {
      "needs_background": "light"
     },
     "output_type": "display_data"
    },
    {
     "name": "stdout",
     "output_type": "stream",
     "text": [
      "Efficiency on Scammers: 96.42248722316864 %\n",
      "Efficiency on Non-Scammers: 84.8396501457726 %\n"
     ]
    },
    {
     "data": {
      "text/plain": [
       "<matplotlib.collections.PathCollection at 0x1c587515ca0>"
      ]
     },
     "execution_count": 9,
     "metadata": {},
     "output_type": "execute_result"
    },
    {
     "data": {
      "image/png": "[encoded data removed]",
      "text/plain": [
       "<Figure size 432x288 with 1 Axes>"
      ]
     },
     "metadata": {
      "needs_background": "light"
     },
     "output_type": "display_data"
    }
   ],
   "source": [
    "positives = []\n",
    "negatives = []\n",
    "for d in renorm_full_data:\n",
    "    if d[-1] == 1:\n",
    "        positives.append(np.asarray(d[:-1]))\n",
    "    else:\n",
    "        negatives.append(np.asarray(d[:-1]))\n",
    "\n",
    "positives = np.asarray(positives)\n",
    "negatives = np.asarray(negatives)\n",
    "\n",
    "pred_pos = MyModel.model.predict(positives)\n",
    "pred_neg = MyModel.model.predict(negatives)\n",
    "\n",
    "plt.hist(pred_pos)\n",
    "plt.title(\"Prediction on Scammers\")\n",
    "plt.show()\n",
    "plt.clf()\n",
    "plt.title(\"Prediction on Non-Scammers\")\n",
    "plt.hist(pred_neg)\n",
    "plt.show()\n",
    "\n",
    "eff_pos = 0\n",
    "for p in pred_pos:\n",
    "    if p > 0.25:\n",
    "        eff_pos += 1\n",
    "eff_pos /= len(pred_pos)\n",
    "print(\"Efficiency on Scammers:\",eff_pos*100,\"%\")\n",
    "\n",
    "eff_neg = 0\n",
    "for p in pred_neg:\n",
    "    if p < 0.25:\n",
    "        eff_neg += 1\n",
    "eff_neg /= len(pred_neg)\n",
    "print(\"Efficiency on Non-Scammers:\",eff_neg*100\n",
    "      ,\"%\")\n",
    "\n",
    "integrated_pos = [ p[0] for p in pred_pos ]\n",
    "integrated_pos.sort()\n",
    "\n",
    "integrated_neg = [ p[0] for p in pred_neg ]\n",
    "integrated_neg.sort(key=lambda p:-p)\n",
    "\n",
    "integrated_pax = [ i/len(pred_pos) for i in range(len(pred_pos)) ]\n",
    "integrated_nax = [ i/len(pred_neg) for i in range(len(pred_neg)) ]\n",
    "\n",
    "plt.scatter(integrated_pax,integrated_pos)\n",
    "plt.scatter(integrated_nax,integrated_neg)"
   ]
  },
  {
   "cell_type": "code",
   "execution_count": null,
   "id": "70f88bca",
   "metadata": {},
   "outputs": [],
   "source": []
  }
 ],
 "metadata": {
  "kernelspec": {
   "display_name": "Python 3 (ipykernel)",
   "language": "python",
   "name": "python3"
  },
  "language_info": {
   "codemirror_mode": {
    "name": "ipython",
    "version": 3
   },
   "file_extension": ".py",
   "mimetype": "text/x-python",
   "name": "python",
   "nbconvert_exporter": "python",
   "pygments_lexer": "ipython3",
   "version": "3.9.12"
  }
 },
 "nbformat": 4,
 "nbformat_minor": 5
}
