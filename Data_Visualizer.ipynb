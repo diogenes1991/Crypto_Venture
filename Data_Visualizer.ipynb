{
 "cells": [
  {
   "cell_type": "code",
   "execution_count": null,
   "id": "4d84fb85",
   "metadata": {},
   "outputs": [],
   "source": [
    "import json\n",
    "import numpy as np\n",
    "import matplotlib.pyplot as plt\n",
    "import random"
   ]
  },
  {
   "cell_type": "code",
   "execution_count": null,
   "id": "ca0c143f",
   "metadata": {},
   "outputs": [],
   "source": [
    "file = open('Processed_Non_Scammer_Database_2/database','r')\n",
    "nsdb = json.load(file)\n",
    "file.close()"
   ]
  },
  {
   "cell_type": "code",
   "execution_count": null,
   "id": "b86e67ec",
   "metadata": {},
   "outputs": [],
   "source": [
    "file = open('Processed_Scammer_Database_2/database','r')\n",
    "sdb = json.load(file)\n",
    "file.close()"
   ]
  },
  {
   "cell_type": "code",
   "execution_count": null,
   "id": "f75e4ad3",
   "metadata": {},
   "outputs": [],
   "source": [
    "def generate_histo(database,**kwargs):\n",
    "    \n",
    "    defaultargs = {'nbins':10,'scale':'log'}\n",
    "    kwargs = {**defaultargs,**kwargs}\n",
    "        \n",
    "    nbins = kwargs['nbins']\n",
    "    scale = kwargs['scale']\n",
    "    keys  = kwargs['keys']\n",
    "    \n",
    "    if nbins<0:\n",
    "        print(\"Error: Number of bins must be positive\")\n",
    "        return False\n",
    "    if scale!='log' and scale!='linear':\n",
    "        print(\"Error: The only histogram options are 'linear' and 'log'\")\n",
    "        return False\n",
    "    \n",
    "    ''' Here keys must be understood as a list of nested keys within the database '''\n",
    "    x = {}\n",
    "    count = 0\n",
    "    for entity in database:\n",
    "        addresses = database[entity]\n",
    "        for address in addresses:\n",
    "            count +=1\n",
    "            value  = address[keys[0]][keys[1]][keys[2]]\n",
    "            x[address['address']] = value\n",
    "    \n",
    "    ''' Format and show the histogram '''\n",
    "    xd = [ x[key] for key in x ]\n",
    "    title = keys[0] + \"_\" + keys[1] + \"_\" + keys[2]\n",
    "    plt.clf()\n",
    "    xaxis = []\n",
    "    if scale =='log':\n",
    "        plt.yscale('log')\n",
    "        plt.xscale('log')\n",
    "        base = np.exp( np.log( max(xd) - min(xd) )/nbins )\n",
    "        xaxis = [ base**i-1 for i in range(nbins) ]\n",
    "    elif scale == 'linear':\n",
    "        m = min(xd)\n",
    "        M = max(xd)\n",
    "        base =  (M-m)/nbins\n",
    "        xaxis = [ m + base*i for i in range(nbins) ]\n",
    "    h = plt.hist(xd,bins=xaxis)\n",
    "    plt.title(title)\n",
    "    plt.show()\n",
    "    return h "
   ]
  },
  {
   "cell_type": "code",
   "execution_count": null,
   "id": "307af27e",
   "metadata": {},
   "outputs": [],
   "source": [
    "scammer_total_unique_incoming = generate_histo(sdb,keys=['spreads','Incoming','Total'],scale='log')\n",
    "non_scammer_total_unique_incoming = generate_histo(nsdb,keys=['spreads','Incoming','Total'],scale='log')"
   ]
  },
  {
   "cell_type": "code",
   "execution_count": null,
   "id": "3f453564",
   "metadata": {},
   "outputs": [],
   "source": [
    "scammer_total_unique_incoming = generate_histo(sdb,keys=['spreads','Outgoing','Max'])\n",
    "non_scammer_total_unique_incoming = generate_histo(nsdb,keys=['spreads','Outgoing','Max'])"
   ]
  },
  {
   "cell_type": "code",
   "execution_count": null,
   "id": "a4a39d02",
   "metadata": {},
   "outputs": [],
   "source": []
  }
 ],
 "metadata": {
  "kernelspec": {
   "display_name": "Python 3 (ipykernel)",
   "language": "python",
   "name": "python3"
  },
  "language_info": {
   "codemirror_mode": {
    "name": "ipython",
    "version": 3
   },
   "file_extension": ".py",
   "mimetype": "text/x-python",
   "name": "python",
   "nbconvert_exporter": "python",
   "pygments_lexer": "ipython3",
   "version": "3.9.12"
  }
 },
 "nbformat": 4,
 "nbformat_minor": 5
}
